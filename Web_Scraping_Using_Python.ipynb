{
 "cells": [
  {
   "cell_type": "code",
   "execution_count": 1,
   "metadata": {},
   "outputs": [],
   "source": [
    "import requests\n",
    "from bs4 import BeautifulSoup\n",
    "import pandas as pd"
   ]
  },
  {
   "cell_type": "code",
   "execution_count": 2,
   "metadata": {},
   "outputs": [],
   "source": [
    "url = \"https://www.flipkart.com/search?q=phone&otracker=search&otracker1=search&marketplace=FLIPKART&as-show=on&as=off\"\n",
    "r = requests.get(url)\n",
    "content = BeautifulSoup(r.content, 'html.parser')"
   ]
  },
  {
   "cell_type": "code",
   "execution_count": 3,
   "metadata": {},
   "outputs": [],
   "source": [
    "products = []\n",
    "ratings = []\n",
    "prices = []\n",
    "\n",
    "name = content.find_all('a', {\"class\": \"s1Q9rs\"})\n",
    "rate = content.find_all('div', {\"class\": \"_3LWZlK\"})\n",
    "price = content.find_all('div', {\"class\": \"_30jeq3\"})\n",
    "\n",
    "for i in name:\n",
    "    products.append(i.text)\n",
    "for i in range(len(products)):\n",
    "    ratings.append(rate[i].text)\n",
    "for i in range(len(products)):\n",
    "    prices.append(price[i].text)"
   ]
  },
  {
   "cell_type": "code",
   "execution_count": 6,
   "metadata": {},
   "outputs": [
    {
     "name": "stdout",
     "output_type": "stream",
     "text": [
      "                                        Product_Name    Price Rating\n",
      "0                       POCO M3 (Power Black, 64 GB)  ₹11,499    4.3\n",
      "1                     realme C21 (Cross Blue, 64 GB)   ₹9,499    4.4\n",
      "2                     realme C21 (Cross Blue, 32 GB)   ₹8,499    4.4\n",
      "3         (Refurbished) I Kall K 320 (Purple, 64 GB)   ₹6,399      3\n",
      "4                    realme C21 (Cross Black, 32 GB)   ₹8,499    4.4\n",
      "5                    realme C21 (Cross Black, 64 GB)   ₹9,499    4.4\n",
      "6                     REDMI 9i (Nature Green, 64 GB)   ₹8,499    4.3\n",
      "7                         I Kall K400 (Black, 64 GB)   ₹6,299      3\n",
      "8                      realme C20 (Cool Blue, 32 GB)   ₹6,999    4.4\n",
      "9                      realme C20 (Cool Grey, 32 GB)   ₹6,999    4.4\n",
      "10                 REDMI 9 Prime (Mint Green, 64 GB)   ₹9,999    4.4\n",
      "11  (Refurbished) I Kall K200 (Golden / Gold, 16 GB)   ₹4,299    4.4\n",
      "12        realme Narzo 30 5G (Racing Silver, 128 GB)  ₹15,999    4.4\n",
      "13          realme Narzo 30 5G (Racing Blue, 128 GB)  ₹15,999    4.3\n",
      "14                           POCO M3 (Yellow, 64 GB)  ₹11,499      3\n",
      "15          (Refurbished) I Kall K 320 (Blue, 64 GB)   ₹6,399    4.4\n",
      "16                REDMI 9 Prime (Matte Black, 64 GB)   ₹9,999    4.5\n",
      "17       Infinix Hot 10 Play (Obsidian Black, 32 GB)   ₹7,999    4.4\n",
      "18            realme Narzo 30 (Racing Silver, 64 GB)  ₹12,499      1\n",
      "19         (Refurbished) I Kall K380 (Silver, 32 GB)   ₹6,199    4.3\n",
      "20                      POCO C3 (Matte Black, 32 GB)   ₹7,999    4.3\n",
      "21               REDMI 9 Power (Mighty Black, 64 GB)  ₹10,999    4.3\n",
      "22                REDMI Note 9 (Shadow Black, 64 GB)  ₹11,499    4.3\n",
      "23           (Refurbished) I Kall K200 (Blue, 16 GB)   ₹4,299    4.3\n",
      "24                  REDMI 9i (Midnight Black, 64 GB)   ₹8,499    4.4\n",
      "25             POCO M2 Reloaded (Mostly Blue, 64 GB)   ₹9,999    4.3\n",
      "26                      POCO M3 (Power Black, 64 GB)  ₹10,499    4.3\n",
      "27             (Refurbished) I Kall K5 (Blue, 16 GB)   ₹4,199    4.3\n",
      "28                  REDMI Note 9 (Aqua Green, 64 GB)  ₹11,499    4.1\n",
      "29               REDMI 9 Power (Blazing Blue, 64 GB)  ₹10,999    4.4\n",
      "30                    realme 8 (Cyber Black, 128 GB)  ₹16,999    4.3\n",
      "31          (Refurbished) I Kall K 500 (Blue, 64 GB)   ₹6,199      3\n",
      "32                  MOTOROLA G30 (Dark Pearl, 64 GB)  ₹10,999    4.3\n",
      "33                 REDMI 9 Prime (Space Blue, 64 GB)   ₹9,999    4.3\n",
      "34            Infinix Hot 10 Play (7° Purple, 64 GB)   ₹8,999    4.3\n",
      "35                        I Kall K 500 (Blue, 64 GB)   ₹6,299    3.3\n",
      "36        Infinix Hot 10 Play (Morandi Green, 64 GB)   ₹8,999    4.3\n",
      "37          Infinix Hot 10 Play (Aegean Blue, 64 GB)   ₹8,999      5\n",
      "38                        POCO M3 (Cool Blue, 64 GB)  ₹11,499      5\n",
      "39                                        I Kall K65   ₹1,499    4.4\n"
     ]
    }
   ],
   "source": [
    "df = pd.DataFrame({'Product_Name': products, 'Price': prices, 'Rating': ratings})\n",
    "print(df)\n",
    "df.to_csv('products.csv', index=False, encoding='utf-8')"
   ]
  },
  {
   "cell_type": "code",
   "execution_count": null,
   "metadata": {},
   "outputs": [],
   "source": []
  }
 ],
 "metadata": {
  "kernelspec": {
   "display_name": "Python 3",
   "language": "python",
   "name": "python3"
  },
  "language_info": {
   "codemirror_mode": {
    "name": "ipython",
    "version": 3
   },
   "file_extension": ".py",
   "mimetype": "text/x-python",
   "name": "python",
   "nbconvert_exporter": "python",
   "pygments_lexer": "ipython3",
   "version": "3.7.9"
  }
 },
 "nbformat": 4,
 "nbformat_minor": 4
}
